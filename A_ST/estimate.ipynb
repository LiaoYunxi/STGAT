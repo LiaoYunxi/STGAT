{
 "cells": [
  {
   "cell_type": "code",
   "execution_count": 3,
   "id": "d7ae6abc-5b0b-4e15-a33a-405f78e891bc",
   "metadata": {},
   "outputs": [],
   "source": [
    "import os\n",
    "import sys\n",
    "import warnings\n",
    "warnings.filterwarnings(\"ignore\")\n",
    "sys.path.append(os.getcwd())\n",
    "import numpy as np\n",
    "import pandas as pd\n",
    "import scipy.stats as ss"
   ]
  },
  {
   "cell_type": "code",
   "execution_count": 4,
   "id": "2b3dbf62-7063-4c4c-8c00-25c402b581f6",
   "metadata": {},
   "outputs": [],
   "source": [
    "def JS_divergence(p,q):\n",
    "    M = (p+q)/2\n",
    "    return 0.5 * ss.entropy(p,M,base=2) + 0.5*ss.entropy(q,M,base=2)\n",
    "\n",
    "# 矩阵按行求JSD,\n",
    "def JS_divergence_mat(p_mat, q_mat):\n",
    "    raw = p_mat.shape[0]\n",
    "    jsd = 0\n",
    "    for i in range(raw):\n",
    "        jsd += JS_divergence(p_mat.iloc[i], q_mat.iloc[i])\n",
    "    return jsd"
   ]
  },
  {
   "cell_type": "code",
   "execution_count": 47,
   "id": "76655d37-801c-4b54-a97e-7a616f0ee147",
   "metadata": {},
   "outputs": [],
   "source": [
    "pred_proportion= pd.read_csv('./benchmark/seqFISH_plus/Dataset3_seqFISHplus_sometasensory/RCTD_Dataset3_res.csv',index_col=0)"
   ]
  },
  {
   "cell_type": "code",
   "execution_count": 48,
   "id": "8da32549-7fc0-4b38-8e12-e5793fa85d13",
   "metadata": {
    "tags": []
   },
   "outputs": [
    {
     "data": {
      "text/plain": [
       "Index(['Excitatory_neuron', 'Interneuron', 'Microglia', 'Astrocyte',\n",
       "       'Endothelial', 'Oligodendrocyte'],\n",
       "      dtype='object')"
      ]
     },
     "execution_count": 48,
     "metadata": {},
     "output_type": "execute_result"
    }
   ],
   "source": [
    "real_proportion.columns"
   ]
  },
  {
   "cell_type": "code",
   "execution_count": 49,
   "id": "1602a289-bf97-4569-9224-a8c5b92df889",
   "metadata": {
    "tags": []
   },
   "outputs": [],
   "source": [
    "# pred_proportion.columns = ['Astrocyte', 'Endothelial', 'Excitatory_neuron', 'Interneuron',\n",
    "#        'Microglia', 'Oligodendrocyte']"
   ]
  },
  {
   "cell_type": "code",
   "execution_count": 50,
   "id": "acf32f37-8b69-4771-beeb-cc3fd3d1d730",
   "metadata": {},
   "outputs": [
    {
     "data": {
      "text/plain": [
       "Index(['Astrocyte', 'Endothelial', 'Excitatory_neuron', 'Interneuron',\n",
       "       'Microglia', 'Oligodendrocyte'],\n",
       "      dtype='object')"
      ]
     },
     "execution_count": 50,
     "metadata": {},
     "output_type": "execute_result"
    }
   ],
   "source": [
    "columns = pd.Index(pred_proportion.columns, dtype='object')\n",
    "columns"
   ]
  },
  {
   "cell_type": "code",
   "execution_count": 51,
   "id": "77ef3f79-7880-4527-ac2c-f864e305d801",
   "metadata": {},
   "outputs": [
    {
     "data": {
      "text/html": [
       "<div>\n",
       "<style scoped>\n",
       "    .dataframe tbody tr th:only-of-type {\n",
       "        vertical-align: middle;\n",
       "    }\n",
       "\n",
       "    .dataframe tbody tr th {\n",
       "        vertical-align: top;\n",
       "    }\n",
       "\n",
       "    .dataframe thead th {\n",
       "        text-align: right;\n",
       "    }\n",
       "</style>\n",
       "<table border=\"1\" class=\"dataframe\">\n",
       "  <thead>\n",
       "    <tr style=\"text-align: right;\">\n",
       "      <th></th>\n",
       "      <th>Excitatory_neuron</th>\n",
       "      <th>Interneuron</th>\n",
       "      <th>Microglia</th>\n",
       "      <th>Astrocyte</th>\n",
       "      <th>Endothelial</th>\n",
       "      <th>Oligodendrocyte</th>\n",
       "    </tr>\n",
       "  </thead>\n",
       "  <tbody>\n",
       "    <tr>\n",
       "      <th>gr_27</th>\n",
       "      <td>0.571429</td>\n",
       "      <td>0.071429</td>\n",
       "      <td>0.071429</td>\n",
       "      <td>0.071429</td>\n",
       "      <td>0.071429</td>\n",
       "      <td>0.142857</td>\n",
       "    </tr>\n",
       "    <tr>\n",
       "      <th>gr_24</th>\n",
       "      <td>0.700000</td>\n",
       "      <td>0.100000</td>\n",
       "      <td>0.200000</td>\n",
       "      <td>0.000000</td>\n",
       "      <td>0.000000</td>\n",
       "      <td>0.000000</td>\n",
       "    </tr>\n",
       "    <tr>\n",
       "      <th>gr_26</th>\n",
       "      <td>0.777778</td>\n",
       "      <td>0.000000</td>\n",
       "      <td>0.000000</td>\n",
       "      <td>0.000000</td>\n",
       "      <td>0.000000</td>\n",
       "      <td>0.222222</td>\n",
       "    </tr>\n",
       "  </tbody>\n",
       "</table>\n",
       "</div>"
      ],
      "text/plain": [
       "       Excitatory_neuron  Interneuron  Microglia  Astrocyte  Endothelial  \\\n",
       "gr_27           0.571429     0.071429   0.071429   0.071429     0.071429   \n",
       "gr_24           0.700000     0.100000   0.200000   0.000000     0.000000   \n",
       "gr_26           0.777778     0.000000   0.000000   0.000000     0.000000   \n",
       "\n",
       "       Oligodendrocyte  \n",
       "gr_27         0.142857  \n",
       "gr_24         0.000000  \n",
       "gr_26         0.222222  "
      ]
     },
     "execution_count": 51,
     "metadata": {},
     "output_type": "execute_result"
    }
   ],
   "source": [
    "real_proportion = pd.read_csv('./benchmark_data/seqFISH_plus/Dataset3_seqFISHplus_sometasensory/ST_data/seqFishplus_Cortex_200_ground_truth_all.tsv', sep='\\t')\n",
    "#real_proportion = pd.DataFrame(data=real_proportion.iloc[:, 4:].values,columns=columns,index=real_proportion.iloc[:, 0])\n",
    "#real_proportion = real_proportion[columns]\n",
    "real_proportion.head(3)"
   ]
  },
  {
   "cell_type": "code",
   "execution_count": 52,
   "id": "a83465f7-e766-4c07-b56e-c142383c85a8",
   "metadata": {},
   "outputs": [
    {
     "data": {
      "text/plain": [
       "0.9667828793829794"
      ]
     },
     "execution_count": 52,
     "metadata": {},
     "output_type": "execute_result"
    }
   ],
   "source": [
    "# 计算RMSE均方误差\n",
    "rmse_by_K = 0\n",
    "for column in columns:\n",
    "    # print(column)\n",
    "    _sum = np.sum(np.square(pred_proportion[column]-real_proportion[column]))\n",
    "    rmse_by_K += _sum\n",
    "rmse_by_K /= len(columns)\n",
    "rmse_by_K = np.sqrt(rmse_by_K)\n",
    "rmse_by_K "
   ]
  },
  {
   "cell_type": "code",
   "execution_count": 53,
   "id": "28cf318b-5173-4d5f-b320-bc49fa3cf465",
   "metadata": {},
   "outputs": [
    {
     "data": {
      "text/plain": [
       "1.303211652679571"
      ]
     },
     "execution_count": 53,
     "metadata": {},
     "output_type": "execute_result"
    }
   ],
   "source": [
    "JS_divergence_mat(pred_proportion, real_proportion)/pred_proportion.shape[0]"
   ]
  },
  {
   "cell_type": "code",
   "execution_count": null,
   "id": "8e2491b0-e58b-4d6e-bfb9-e213b9a0fdc9",
   "metadata": {},
   "outputs": [],
   "source": []
  }
 ],
 "metadata": {
  "kernelspec": {
   "display_name": "SpaTD",
   "language": "python",
   "name": "spatd"
  },
  "language_info": {
   "codemirror_mode": {
    "name": "ipython",
    "version": 3
   },
   "file_extension": ".py",
   "mimetype": "text/x-python",
   "name": "python",
   "nbconvert_exporter": "python",
   "pygments_lexer": "ipython3",
   "version": "3.8.16"
  }
 },
 "nbformat": 4,
 "nbformat_minor": 5
}
