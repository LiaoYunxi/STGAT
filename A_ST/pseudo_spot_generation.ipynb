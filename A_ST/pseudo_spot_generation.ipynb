{
 "cells": [
  {
   "cell_type": "code",
   "execution_count": 1,
   "id": "ff95e04b-1948-481c-95b2-a590b72f6eee",
   "metadata": {
    "tags": []
   },
   "outputs": [],
   "source": [
    "import os\n",
    "import sys\n",
    "import warnings\n",
    "import scanpy as sc\n",
    "import pandas as pd\n",
    "import anndata as ad\n",
    "import pickle\n",
    "# import multiprocessing\n",
    "from tqdm.notebook import tqdm\n",
    "warnings.filterwarnings(\"ignore\")\n",
    "sys.path.append(os.getcwd())"
   ]
  },
  {
   "cell_type": "code",
   "execution_count": 4,
   "id": "a196ce45-d872-4520-a3b9-3812bec18b15",
   "metadata": {
    "tags": []
   },
   "outputs": [],
   "source": [
    "# sc_adata = pd.read_table(paths['sc_path']+\"/sc_data.tsv\", sep='\\t',index_col=0)\n",
    "# ST_adata = pd.read_table(ST_path+\"/MERFISH_ID{0}_data_{1}.tsv\".format(idx1,idx2), sep='\\t',index_col=0)\n",
    "# st_adata = pd.read_table(paths['ST_path']+\"/ST_data.tsv\", sep='\\t',index_col=0)\n",
    "# sc_adata.fillna(0,inplace = True)\n",
    "# sc_adata.to_csv(paths['sc_path']+\"/sc_data.tsv\", sep='\\t')"
   ]
  },
  {
   "cell_type": "code",
   "execution_count": null,
   "id": "be11e346-04c6-44ae-b534-56571f09ee39",
   "metadata": {},
   "outputs": [],
   "source": [
    "sc_adata"
   ]
  },
  {
   "cell_type": "code",
   "execution_count": null,
   "id": "c57a9421-a265-45f9-9fe7-8bd89b7c70d7",
   "metadata": {},
   "outputs": [],
   "source": [
    "ID_list = range(1,37)"
   ]
  },
  {
   "cell_type": "code",
   "execution_count": 5,
   "id": "4b0376b7-6851-4977-a68b-8ce4f74c63f4",
   "metadata": {},
   "outputs": [],
   "source": [
    "idx1 = 1\n",
    "idx2 = 0.01"
   ]
  },
  {
   "cell_type": "code",
   "execution_count": 6,
   "id": "bbf76897-1b6a-48d1-985d-948fe6d73cba",
   "metadata": {
    "tags": []
   },
   "outputs": [
    {
     "data": {
      "text/plain": [
       "Inhibitory                  13797\n",
       "Mature_oligodendrocyte       6334\n",
       "Excitatory                   3144\n",
       "Immature_oligodendrocyte     1680\n",
       "Microglia                     826\n",
       "Astrocyte                     802\n",
       "Ambiguous                     751\n",
       "Endothelial                   529\n",
       "Mural                         504\n",
       "Ependymal                      66\n",
       "Name: cell_type, dtype: int64"
      ]
     },
     "execution_count": 6,
     "metadata": {},
     "output_type": "execute_result"
    }
   ],
   "source": [
    "load_test_groundtruth = False\n",
    "use_marker_genes = False\n",
    "external_genes = True\n",
    "generate_new_pseudo_spots = True\n",
    "\n",
    "# pseudo_spot_simulation_paras = {\n",
    "#     'spot_num': 30000,\n",
    "#     'min_cell_num_in_spot': 20,\n",
    "#     'max_cell_num_in_spot': 100,\n",
    "#     'generation_method': 'celltype',\n",
    "#     'max_cell_types_in_spot': 4,   \n",
    "# }\n",
    "\n",
    "paths = {\n",
    "    'sc_path': '/data/lyx/hubs/SpaTD/stdgcn/benchmark_data/MERFISH/sc_data',\n",
    "    'ST_path': '/data/lyx/hubs/SpaTD/stdgcn/benchmark_data/MERFISH/ST_data',\n",
    "    'output_path': '/data/lyx/hubs/SpaTD/stdgcn/benchmark/MERFISH/ID1/Bregma0.01/',\n",
    "}\n",
    "    \n",
    "pseudo_spot_simulation_paras = {\n",
    "    'spot_num': 30000,\n",
    "    'min_cell_num_in_spot': 8,\n",
    "    'max_cell_num_in_spot': 12,\n",
    "    'generation_method': 'celltype',\n",
    "    'max_cell_types_in_spot': 4,   \n",
    "}\n",
    "# paths = {\n",
    "#     'sc_path': '/data/lyx/hubs/SpaTD/stdgcn/benchmark_data/seqFISH_plus/Dataset3_seqFISHplus_sometasensory/Cortex_allField_77spot/sc_data',\n",
    "#     'ST_path': '/data/lyx/hubs/SpaTD/stdgcn/benchmark_data/seqFISH_plus/Dataset3_seqFISHplus_sometasensory/Cortex_allField_77spot/ST_data',\n",
    "#     'output_path': '/data/lyx/hubs/SpaTD/stdgcn/benchmark/seqFISH_plus/Dataset3_Cortex_allField_77spot',\n",
    "# }\n",
    "fraction_pie_plot = True\n",
    "cell_type_distribution_plot = True\n",
    "n_jobs = -1\n",
    "GCN_device = 'GPU'\n",
    "\n",
    "sc_path = paths['sc_path']\n",
    "ST_path = paths['ST_path']\n",
    "output_path = paths['output_path']\n",
    "\n",
    "if not os.path.exists(output_path):\n",
    "    os.makedirs(output_path)\n",
    "    \n",
    "#sc_adata = sc.read_csv(sc_path+\"/sc_data.tsv\", delimiter='\\t')\n",
    "sc_adata = sc.read_csv(sc_path+\"/MERFISH_ID{0}_{1}_sc_data.tsv\".format(idx1,idx2), delimiter='\\t')\n",
    "sc_label = pd.read_table(sc_path+\"/sc_label.tsv\", sep = '\\t', header = 0, index_col = 0, encoding = \"utf-8\")\n",
    "sc_label.columns = ['cell_type']\n",
    "sc_adata.obs['cell_type'] = sc_label['cell_type'].values\n",
    "\n",
    "cell_type_num = len(sc_adata.obs['cell_type'].unique())\n",
    "cell_types = sc_adata.obs['cell_type'].unique()\n",
    "\n",
    "word_to_idx_celltype = {word: i for i, word in enumerate(cell_types)}\n",
    "idx_to_word_celltype = {i: word for i, word in enumerate(cell_types)}\n",
    "\n",
    "celltype_idx = [word_to_idx_celltype[w] for w in sc_adata.obs['cell_type']]\n",
    "sc_adata.obs['cell_type_idx'] = celltype_idx\n",
    "sc_adata.obs['cell_type'].value_counts()"
   ]
  },
  {
   "cell_type": "code",
   "execution_count": 7,
   "id": "6939e395-d675-4233-9d53-5eb577ef9cbd",
   "metadata": {},
   "outputs": [],
   "source": [
    "# with open(output_path+\"/marker_genes.tsv\", 'r') as f:\n",
    "#     selected_genes = [line.rstrip('\\n') for line in f]\n",
    "selected_genes =sc_adata.var_names.to_list()"
   ]
  },
  {
   "cell_type": "code",
   "execution_count": 8,
   "id": "f7515642-3464-4ee9-b431-1bb7a95a980f",
   "metadata": {},
   "outputs": [
    {
     "data": {
      "text/plain": [
       "'/data/lyx/hubs/SpaTD/stdgcn/benchmark_data/MERFISH/sc_data/MERFISH_ID1_0.01_sc_data.tsv'"
      ]
     },
     "execution_count": 8,
     "metadata": {},
     "output_type": "execute_result"
    }
   ],
   "source": [
    "sc_path+\"/MERFISH_ID{0}_{1}_sc_data.tsv\".format(idx1,idx2)"
   ]
  },
  {
   "cell_type": "code",
   "execution_count": 9,
   "id": "ff4e5f07-e33a-40d8-9342-21377fd26759",
   "metadata": {},
   "outputs": [],
   "source": [
    "spot_num = pseudo_spot_simulation_paras['spot_num']\n",
    "min_cell_number_in_spot = pseudo_spot_simulation_paras['min_cell_num_in_spot']\n",
    "max_cell_number_in_spot = pseudo_spot_simulation_paras['max_cell_num_in_spot']\n",
    "max_cell_types_in_spot = pseudo_spot_simulation_paras['max_cell_types_in_spot']\n",
    "generation_method = pseudo_spot_simulation_paras['generation_method']\n",
    "n_jobs = 24"
   ]
  },
  {
   "cell_type": "code",
   "execution_count": 10,
   "id": "ffd1d245-80d6-461d-8842-6f1bb095b759",
   "metadata": {},
   "outputs": [],
   "source": [
    "sc_exp =sc_adata.copy()"
   ]
  },
  {
   "cell_type": "code",
   "execution_count": 11,
   "id": "cca6e7ad-02e6-482b-a559-7050669cc909",
   "metadata": {
    "tags": []
   },
   "outputs": [],
   "source": [
    "# cell_type_num = len(sc_adata.obs['cell_type'].unique())\n",
    "# cores = multiprocessing.cpu_count()\n",
    "# pool = multiprocessing.Pool(processes=n_jobs)"
   ]
  },
  {
   "cell_type": "code",
   "execution_count": 12,
   "id": "ac556245-e56b-47b5-b7a0-603b4260b97b",
   "metadata": {},
   "outputs": [],
   "source": [
    "# args = [(sc_exp, min_cell_number_in_spot, max_cell_number_in_spot, max_cell_types_in_spot, generation_method) for i in range(spot_num)]"
   ]
  },
  {
   "cell_type": "code",
   "execution_count": 13,
   "id": "0f2978c1-7bf9-46a7-b222-a7b5d3923140",
   "metadata": {},
   "outputs": [],
   "source": [
    "import numpy as np\n",
    "import random\n",
    "np.random.seed(0)"
   ]
  },
  {
   "cell_type": "code",
   "execution_count": 14,
   "id": "d0ce1536-2193-43a2-b5fd-699bc00d320f",
   "metadata": {},
   "outputs": [],
   "source": [
    "random.seed(0)"
   ]
  },
  {
   "cell_type": "code",
   "execution_count": 15,
   "id": "dac5d2eb-25ef-4600-93ea-2fc0ba209169",
   "metadata": {},
   "outputs": [
    {
     "data": {
      "text/plain": [
       "'/data/lyx/hubs/SpaTD/stdgcn/benchmark/MERFISH/ID1/Bregma0.01/'"
      ]
     },
     "execution_count": 15,
     "metadata": {},
     "output_type": "execute_result"
    }
   ],
   "source": [
    "output_path"
   ]
  },
  {
   "cell_type": "code",
   "execution_count": 18,
   "id": "11be49fc-3918-4f7a-9643-1cfad2680881",
   "metadata": {
    "collapsed": true,
    "jupyter": {
     "outputs_hidden": true
    },
    "tags": []
   },
   "outputs": [
    {
     "name": "stdout",
     "output_type": "stream",
     "text": [
      "######### have done  0.0 ############\n",
      "######### have done  0.03333333333333333 ############\n",
      "######### have done  0.06666666666666667 ############\n",
      "######### have done  0.1 ############\n",
      "######### have done  0.13333333333333333 ############\n",
      "######### have done  0.16666666666666666 ############\n",
      "######### have done  0.2 ############\n",
      "######### have done  0.23333333333333334 ############\n",
      "######### have done  0.26666666666666666 ############\n",
      "######### have done  0.3 ############\n",
      "######### have done  0.3333333333333333 ############\n",
      "######### have done  0.36666666666666664 ############\n",
      "######### have done  0.4 ############\n",
      "######### have done  0.43333333333333335 ############\n",
      "######### have done  0.4666666666666667 ############\n",
      "######### have done  0.5 ############\n",
      "######### have done  0.5333333333333333 ############\n",
      "######### have done  0.5666666666666667 ############\n",
      "######### have done  0.6 ############\n",
      "######### have done  0.6333333333333333 ############\n",
      "######### have done  0.6666666666666666 ############\n",
      "######### have done  0.7 ############\n",
      "######### have done  0.7333333333333333 ############\n",
      "######### have done  0.7666666666666667 ############\n",
      "######### have done  0.8 ############\n",
      "######### have done  0.8333333333333334 ############\n",
      "######### have done  0.8666666666666667 ############\n",
      "######### have done  0.9 ############\n",
      "######### have done  0.9333333333333333 ############\n",
      "######### have done  0.9666666666666667 ############\n",
      "CPU times: user 11min 54s, sys: 2.25 s, total: 11min 56s\n",
      "Wall time: 11min 56s\n"
     ]
    }
   ],
   "source": [
    "%%time\n",
    "pseudo_adata = pseudo_spot_generation(sc_adata,\n",
    "                                      idx_to_word_celltype,\n",
    "                                      spot_num = pseudo_spot_simulation_paras['spot_num'],\n",
    "                                      min_cell_number_in_spot = pseudo_spot_simulation_paras['min_cell_num_in_spot'],\n",
    "                                      max_cell_number_in_spot = pseudo_spot_simulation_paras['max_cell_num_in_spot'],\n",
    "                                      max_cell_types_in_spot = pseudo_spot_simulation_paras['max_cell_types_in_spot'],\n",
    "                                      generation_method = pseudo_spot_simulation_paras['generation_method'],\n",
    "                                      n_jobs = n_jobs\n",
    "                                      )\n",
    "data_file = open(output_path+'/pseudo_ST_ID1_8_12_4.pkl','wb')\n",
    "pickle.dump(pseudo_adata, data_file)\n",
    "data_file.close()"
   ]
  },
  {
   "cell_type": "code",
   "execution_count": 160,
   "id": "6baf2cf8-aded-4017-98b5-ab69b94aa76a",
   "metadata": {},
   "outputs": [],
   "source": [
    "mv /data/lyx/hubs/SpaTD/stdgcn/benchmark/MERFISH/ID1/Bregma0.26/pseudo_ST_8_12_4.pkl /data/lyx/hubs/SpaTD/stdgcn/benchmark/MERFISH/ID1/Bregma0.01/"
   ]
  },
  {
   "cell_type": "code",
   "execution_count": 113,
   "id": "8155b23f-c665-4ebd-b65e-46e559d0f394",
   "metadata": {},
   "outputs": [],
   "source": [
    "!rm {output_path+'/pseudo_ST.pkl'}"
   ]
  },
  {
   "cell_type": "code",
   "execution_count": 17,
   "id": "a6294290-9ad6-457a-8379-790664b0e83f",
   "metadata": {},
   "outputs": [],
   "source": [
    "def generate_a_spot(sc_exp, \n",
    "                    min_cell_number_in_spot, \n",
    "                    max_cell_number_in_spot,\n",
    "                    max_cell_types_in_spot,\n",
    "                    generation_method):\n",
    "    if generation_method == 'cell':\n",
    "        cell_num = random.randint(min_cell_number_in_spot, max_cell_number_in_spot)\n",
    "        cell_list = list(sc_exp.obs.index.values)\n",
    "        picked_cells = random.choices(cell_list, k=cell_num)\n",
    "        return sc_exp[picked_cells]\n",
    "    elif generation_method == 'celltype':\n",
    "        cell_num = random.randint(min_cell_number_in_spot, max_cell_number_in_spot)\n",
    "        cell_type_list = list(sc_exp.obs['cell_type'].unique())\n",
    "        cell_type_num = random.randint(1, max_cell_types_in_spot)\n",
    "        \n",
    "        while(True):\n",
    "            cell_type_list_selected = random.choices(sc_exp.obs['cell_type'].value_counts().keys(), k=cell_type_num)\n",
    "            if len(set(cell_type_list_selected)) == cell_type_num:\n",
    "                break\n",
    "        sc_exp_filter = sc_exp[sc_exp.obs['cell_type'].isin(cell_type_list_selected)]\n",
    "        \n",
    "        picked_cell_type = random.choices(cell_type_list_selected, k=cell_num)\n",
    "        picked_cells = []\n",
    "        for i in picked_cell_type:\n",
    "            data = sc_exp[sc_exp.obs['cell_type'] == i]\n",
    "            cell_list = list(data.obs.index.values)\n",
    "            picked_cells.append(random.sample(cell_list, 1)[0])\n",
    "            \n",
    "        return sc_exp_filter[picked_cells]\n",
    "    else:\n",
    "        print('generation_method should be \"cell\" or \"celltype\" ')\n",
    "\n",
    "def pseudo_spot_generation(sc_exp, \n",
    "                           idx_to_word_celltype,\n",
    "                           spot_num, \n",
    "                           min_cell_number_in_spot, \n",
    "                           max_cell_number_in_spot,\n",
    "                           max_cell_types_in_spot,\n",
    "                           generation_method,\n",
    "                           n_jobs = -1\n",
    "                          ):\n",
    "    \n",
    "    cell_type_num = len(sc_exp.obs['cell_type'].unique())\n",
    "    \n",
    "    # cores = multiprocessing.cpu_count()\n",
    "    # if n_jobs == -1:\n",
    "    #     pool = multiprocessing.Pool(processes=cores)\n",
    "    # else:\n",
    "    #     pool = multiprocessing.Pool(processes=n_jobs)\n",
    "    # args = [(sc_exp, min_cell_number_in_spot, max_cell_number_in_spot, max_cell_types_in_spot, generation_method) for i in range(spot_num)]    \n",
    "    pseudo_spots = []\n",
    "    pseudo_spots_table = np.zeros((spot_num, sc_exp.shape[1]), dtype=float)\n",
    "    pseudo_fraction_table = np.zeros((spot_num, cell_type_num), dtype=float)\n",
    "    for i in range(spot_num):\n",
    "        one_spot = generate_a_spot(sc_exp, \n",
    "                    min_cell_number_in_spot, \n",
    "                    max_cell_number_in_spot,\n",
    "                    max_cell_types_in_spot,\n",
    "                    generation_method)\n",
    "        pseudo_spots.append(one_spot)\n",
    "        pseudo_spots_table[i] = one_spot.X.sum(axis=0)\n",
    "        for j in one_spot.obs.index:\n",
    "            type_idx = one_spot.obs.loc[j, 'cell_type_idx']\n",
    "            pseudo_fraction_table[i, type_idx] += 1\n",
    "        if i %1000==0:\n",
    "            print(\"######### have done \",i/spot_num,'############')\n",
    "\n",
    "    pseudo_spots_table = pd.DataFrame(pseudo_spots_table, columns=sc_exp.var.index.values)\n",
    "    pseudo_spots = ad.AnnData(X=pseudo_spots_table.iloc[:,:].values)\n",
    "    pseudo_spots.obs.index = pseudo_spots_table.index[:]\n",
    "    pseudo_spots.var.index = pseudo_spots_table.columns[:]\n",
    "    type_list = [idx_to_word_celltype[i] for i in range(cell_type_num)]\n",
    "    pseudo_fraction_table = pd.DataFrame(pseudo_fraction_table, columns=type_list)\n",
    "    pseudo_fraction_table['cell_num'] = pseudo_fraction_table.sum(axis=1)\n",
    "    for i in pseudo_fraction_table.columns[:-1]:\n",
    "        pseudo_fraction_table[i] = pseudo_fraction_table[i]/pseudo_fraction_table['cell_num']\n",
    "    pseudo_spots.obs = pseudo_spots.obs.join(pseudo_fraction_table)\n",
    "        \n",
    "    return pseudo_spots"
   ]
  },
  {
   "cell_type": "code",
   "execution_count": 11,
   "id": "14f5556f-8062-4a26-91b8-88064f051a94",
   "metadata": {},
   "outputs": [],
   "source": [
    "# def generate_a_spot(sc_exp, \n",
    "#                     min_cell_number_in_spot, \n",
    "#                     max_cell_number_in_spot,\n",
    "#                     max_cell_types_in_spot,\n",
    "#                     generation_method):\n",
    "#     if generation_method == 'cell':\n",
    "#         cell_num = random.randint(min_cell_number_in_spot, max_cell_number_in_spot)\n",
    "#         cell_list = list(sc_exp.obs.index.values)\n",
    "#         picked_cells = random.choices(cell_list, k=cell_num)\n",
    "#         return sc_exp[picked_cells]\n",
    "#     elif generation_method == 'celltype':\n",
    "#         cell_num = random.randint(min_cell_number_in_spot, max_cell_number_in_spot)\n",
    "#         cell_type_list = list(sc_exp.obs['cell_type'].unique())\n",
    "#         cell_type_num = random.randint(1, max_cell_types_in_spot)\n",
    "        \n",
    "#         while(True):\n",
    "#             cell_type_list_selected = random.choices(sc_exp.obs['cell_type'].value_counts().keys(), k=cell_type_num)\n",
    "#             if len(set(cell_type_list_selected)) == cell_type_num:\n",
    "#                 break\n",
    "#         sc_exp_filter = sc_exp[sc_exp.obs['cell_type'].isin(cell_type_list_selected)]\n",
    "        \n",
    "#         picked_cell_type = random.choices(cell_type_list_selected, k=cell_num)\n",
    "#         picked_cells = []\n",
    "#         for i in picked_cell_type:\n",
    "#             data = sc_exp[sc_exp.obs['cell_type'] == i]\n",
    "#             cell_list = list(data.obs.index.values)\n",
    "#             picked_cells.append(random.sample(cell_list, 1)[0])\n",
    "            \n",
    "#         return sc_exp_filter[picked_cells]\n",
    "#     else:\n",
    "#         print('generation_method should be \"cell\" or \"celltype\" ')\n",
    "\n",
    "# def pseudo_spot_generation(sc_exp, \n",
    "#                            idx_to_word_celltype,\n",
    "#                            spot_num, \n",
    "#                            min_cell_number_in_spot, \n",
    "#                            max_cell_number_in_spot,\n",
    "#                            max_cell_types_in_spot,\n",
    "#                            generation_method,\n",
    "#                            n_jobs = -1\n",
    "#                           ):\n",
    "    \n",
    "#     cell_type_num = len(sc_exp.obs['cell_type'].unique())\n",
    "    \n",
    "#     cores = multiprocessing.cpu_count()\n",
    "#     if n_jobs == -1:\n",
    "#         pool = multiprocessing.Pool(processes=cores)\n",
    "#     else:\n",
    "#         pool = multiprocessing.Pool(processes=n_jobs)\n",
    "#     args = [(sc_exp, min_cell_number_in_spot, max_cell_number_in_spot, max_cell_types_in_spot, generation_method) for i in range(spot_num)]\n",
    "#     generated_spots = pool.starmap(generate_a_spot, tqdm(args, desc='Generating pseudo-spots'))\n",
    "    \n",
    "#     pseudo_spots = []\n",
    "#     pseudo_spots_table = np.zeros((spot_num, sc_exp.shape[1]), dtype=float)\n",
    "#     pseudo_fraction_table = np.zeros((spot_num, cell_type_num), dtype=float)\n",
    "#     for i in range(spot_num):\n",
    "#         one_spot = generated_spots[i]\n",
    "#         pseudo_spots.append(one_spot)\n",
    "#         pseudo_spots_table[i] = one_spot.X.sum(axis=0)\n",
    "#         for j in one_spot.obs.index:\n",
    "#             type_idx = one_spot.obs.loc[j, 'cell_type_idx']\n",
    "#             pseudo_fraction_table[i, type_idx] += 1\n",
    "#     pseudo_spots_table = pd.DataFrame(pseudo_spots_table, columns=sc_exp.var.index.values)\n",
    "#     pseudo_spots = anndata.AnnData(X=pseudo_spots_table.iloc[:,:].values)\n",
    "#     pseudo_spots.obs.index = pseudo_spots_table.index[:]\n",
    "#     pseudo_spots.var.index = pseudo_spots_table.columns[:]\n",
    "#     type_list = [idx_to_word_celltype[i] for i in range(cell_type_num)]\n",
    "#     pseudo_fraction_table = pd.DataFrame(pseudo_fraction_table, columns=type_list)\n",
    "#     pseudo_fraction_table['cell_num'] = pseudo_fraction_table.sum(axis=1)\n",
    "#     for i in pseudo_fraction_table.columns[:-1]:\n",
    "#         pseudo_fraction_table[i] = pseudo_fraction_table[i]/pseudo_fraction_table['cell_num']\n",
    "#     pseudo_spots.obs = pseudo_spots.obs.join(pseudo_fraction_table)\n",
    "        \n",
    "#     return pseudo_spots"
   ]
  },
  {
   "cell_type": "code",
   "execution_count": null,
   "id": "d2fffb93-a547-41e2-9ed7-ba521e83e933",
   "metadata": {},
   "outputs": [],
   "source": []
  }
 ],
 "metadata": {
  "kernelspec": {
   "display_name": "SpaTD",
   "language": "python",
   "name": "spatd"
  },
  "language_info": {
   "codemirror_mode": {
    "name": "ipython",
    "version": 3
   },
   "file_extension": ".py",
   "mimetype": "text/x-python",
   "name": "python",
   "nbconvert_exporter": "python",
   "pygments_lexer": "ipython3",
   "version": "3.8.16"
  }
 },
 "nbformat": 4,
 "nbformat_minor": 5
}
